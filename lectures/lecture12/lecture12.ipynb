{
 "cells": [
  {
   "cell_type": "code",
   "execution_count": 1,
   "metadata": {},
   "outputs": [],
   "source": [
    "from __future__ import print_function\n",
    "import numpy as np\n"
   ]
  },
  {
   "cell_type": "code",
   "execution_count": 2,
   "metadata": {},
   "outputs": [
    {
     "name": "stdout",
     "output_type": "stream",
     "text": [
      "nope can not divide by zero\n"
     ]
    }
   ],
   "source": [
    "try:\n",
    "    1.0/0.0\n",
    "    print('I created a black')\n",
    "except:\n",
    "    print('nope can not divide by zero')"
   ]
  },
  {
   "cell_type": "code",
   "execution_count": 3,
   "metadata": {},
   "outputs": [],
   "source": [
    "from sklearn import svm\n",
    "from sklearn import datasets\n",
    "clf = svm.SVC()\n",
    "iris = datasets.load_iris()\n",
    "X, y = iris.data, iris.target"
   ]
  },
  {
   "cell_type": "code",
   "execution_count": 4,
   "metadata": {},
   "outputs": [],
   "source": [
    "from sklearn import datasets"
   ]
  },
  {
   "cell_type": "code",
   "execution_count": 5,
   "metadata": {},
   "outputs": [],
   "source": [
    "from sklearn.model_selection import KFold\n",
    "kf = KFold(n_splits=4, shuffle=True, random_state=111)"
   ]
  },
  {
   "cell_type": "code",
   "execution_count": 6,
   "metadata": {},
   "outputs": [
    {
     "name": "stdout",
     "output_type": "stream",
     "text": [
      "[  1   3   4   5   6   7   8   9  10  11  12  13  14  17  18  19  20  21\n",
      "  27  28  29  30  31  32  33  34  37  38  40  41  42  43  44  45  46  48\n",
      "  49  50  51  52  53  54  58  59  60  61  62  63  64  66  68  69  71  72\n",
      "  74  75  76  78  79  80  81  83  84  85  86  87  88  89  90  91  92  93\n",
      "  94  96  97  98  99 100 101 103 104 106 107 108 110 111 112 114 115 116\n",
      " 117 118 120 121 122 125 127 128 129 130 132 133 134 135 138 141 142 143\n",
      " 146 147 148 149] [  0   2  15  16  22  23  24  25  26  35  36  39  47  55  56  57  65  67\n",
      "  70  73  77  82  95 102 105 109 113 119 123 124 126 131 136 137 139 140\n",
      " 144 145]\n"
     ]
    }
   ],
   "source": [
    "for train, test in kf.split(X):\n",
    "    print(train, test)\n",
    "    break"
   ]
  },
  {
   "cell_type": "code",
   "execution_count": 7,
   "metadata": {},
   "outputs": [
    {
     "name": "stdout",
     "output_type": "stream",
     "text": [
      "150\n",
      "number of training points 112\n",
      "number of testing points 38\n"
     ]
    }
   ],
   "source": [
    "print(len(y))\n",
    "for train, test in kf.split(X):\n",
    "    X_test, y_test = X[test], y[test]\n",
    "    X_train, y_train = X[train], y[train]\n",
    "    print('number of training points', len(y_train))\n",
    "    print('number of testing points', len(y_test))\n",
    "    break"
   ]
  },
  {
   "cell_type": "code",
   "execution_count": 10,
   "metadata": {},
   "outputs": [
    {
     "name": "stdout",
     "output_type": "stream",
     "text": [
      "CV score  0.947368421053\n",
      "CV score  0.947368421053\n",
      "CV score  1.0\n",
      "CV score  1.0\n"
     ]
    }
   ],
   "source": [
    "scores = []\n",
    "for train, test in kf.split(X):\n",
    "    X_test, y_test = X[test], y[test]\n",
    "    X_train, y_train = X[train], y[train]\n",
    "\n",
    "    \n",
    "    clf.fit(X_train, y_train)\n",
    "    \n",
    "    temp = clf.score(X_test, y_test)\n",
    "    scores.append(temp)\n",
    "    print('CV score ',temp)"
   ]
  },
  {
   "cell_type": "code",
   "execution_count": 11,
   "metadata": {},
   "outputs": [
    {
     "name": "stdout",
     "output_type": "stream",
     "text": [
      "[0.94736842105263153, 0.94736842105263153, 1.0, 1.0]\n"
     ]
    }
   ],
   "source": [
    "print(scores)"
   ]
  },
  {
   "cell_type": "code",
   "execution_count": 12,
   "metadata": {
    "scrolled": true
   },
   "outputs": [
    {
     "data": {
      "text/plain": [
       "[0.94736842105263153, 0.94736842105263153, 1.0, 1.0]"
      ]
     },
     "execution_count": 12,
     "metadata": {},
     "output_type": "execute_result"
    }
   ],
   "source": [
    "scores"
   ]
  },
  {
   "cell_type": "code",
   "execution_count": 17,
   "metadata": {},
   "outputs": [
    {
     "data": {
      "text/plain": [
       "array([ 0.94736842,  1.        ])"
      ]
     },
     "execution_count": 17,
     "metadata": {},
     "output_type": "execute_result"
    }
   ],
   "source": [
    "scores = np.array(scores)\n",
    "scores[[1,3]]\n"
   ]
  },
  {
   "cell_type": "code",
   "execution_count": null,
   "metadata": {},
   "outputs": [],
   "source": []
  }
 ],
 "metadata": {
  "kernelspec": {
   "display_name": "Python 2",
   "language": "python",
   "name": "python2"
  },
  "language_info": {
   "codemirror_mode": {
    "name": "ipython",
    "version": 2
   },
   "file_extension": ".py",
   "mimetype": "text/x-python",
   "name": "python",
   "nbconvert_exporter": "python",
   "pygments_lexer": "ipython2",
   "version": "2.7.13"
  }
 },
 "nbformat": 4,
 "nbformat_minor": 2
}
