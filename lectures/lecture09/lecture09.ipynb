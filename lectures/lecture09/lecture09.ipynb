{
 "cells": [
  {
   "cell_type": "code",
   "execution_count": 2,
   "metadata": {},
   "outputs": [],
   "source": [
    "from __future__ import print_function\n",
    "# Lecture 09"
   ]
  },
  {
   "cell_type": "code",
   "execution_count": 4,
   "metadata": {},
   "outputs": [
    {
     "name": "stdout",
     "output_type": "stream",
     "text": [
      "1.0.0\n"
     ]
    }
   ],
   "source": [
    "# scipy version 1.0.0 is out, as of yesterday\n",
    "import scipy\n",
    "print(scipy.__version__)"
   ]
  },
  {
   "cell_type": "code",
   "execution_count": 5,
   "metadata": {},
   "outputs": [],
   "source": [
    "# what happens if I do this\n",
    "A = 1 + 2 + 3\n",
    "+4\n",
    "# what is A\n",
    "B = 1 + 2 + 3 \\\n",
    "+4"
   ]
  },
  {
   "cell_type": "code",
   "execution_count": 6,
   "metadata": {},
   "outputs": [
    {
     "name": "stdout",
     "output_type": "stream",
     "text": [
      "6 10\n"
     ]
    }
   ],
   "source": [
    "print(A,B)"
   ]
  },
  {
   "cell_type": "code",
   "execution_count": 7,
   "metadata": {},
   "outputs": [
    {
     "data": {
      "text/plain": [
       "6"
      ]
     },
     "execution_count": 7,
     "metadata": {},
     "output_type": "execute_result"
    }
   ],
   "source": [
    "A"
   ]
  },
  {
   "cell_type": "code",
   "execution_count": 8,
   "metadata": {},
   "outputs": [
    {
     "name": "stdout",
     "output_type": "stream",
     "text": [
      "This is line 1 of a demo txt file.\r\n",
      "\n",
      "This is line 2 of a demo txt file.\r\n",
      "\n",
      "This is line 3 of a demo txt file.\r\n",
      "\n",
      "This is line 4 of a demo txt file.\r\n",
      "\n",
      "This is line 5 of a demo txt file.\r\n",
      "\n",
      "This is line 6 of a demo txt file.\r\n",
      "\n",
      "This is line 7 of a demo txt file.\r\n",
      "\n",
      "This is line 8 of a demo txt file.\r\n",
      "\n",
      "This is line 9 of a demo txt file.\r\n",
      "\n",
      "This is line 10 of a demo txt file.\r\n",
      "\n",
      "I replace_me_1 Python.\r\n",
      "\n",
      "I replace_me_2 MATLAB.\r\n",
      "\n"
     ]
    }
   ],
   "source": [
    "with open('code/demo.txt','r') as f:\n",
    "    for line in f:\n",
    "        print(line)"
   ]
  },
  {
   "cell_type": "code",
   "execution_count": 9,
   "metadata": {},
   "outputs": [
    {
     "name": "stdout",
     "output_type": "stream",
     "text": [
      "['This is line 1 of a demo txt file.\\r\\n', 'This is line 2 of a demo txt file.\\r\\n', 'This is line 3 of a demo txt file.\\r\\n', 'This is line 4 of a demo txt file.\\r\\n', 'This is line 5 of a demo txt file.\\r\\n', 'This is line 6 of a demo txt file.\\r\\n', 'This is line 7 of a demo txt file.\\r\\n', 'This is line 8 of a demo txt file.\\r\\n', 'This is line 9 of a demo txt file.\\r\\n', 'This is line 10 of a demo txt file.\\r\\n', 'I replace_me_1 Python.\\r\\n', 'I replace_me_2 MATLAB.\\r\\n']\n"
     ]
    }
   ],
   "source": [
    "with open('code/demo.txt','r') as f:\n",
    "    demo_txt = f.readlines()\n",
    "print(demo_txt)"
   ]
  },
  {
   "cell_type": "code",
   "execution_count": 10,
   "metadata": {},
   "outputs": [
    {
     "data": {
      "text/plain": [
       "'This is line 1 of a demo txt file.\\r\\n'"
      ]
     },
     "execution_count": 10,
     "metadata": {},
     "output_type": "execute_result"
    }
   ],
   "source": [
    "demo_txt[0]"
   ]
  },
  {
   "cell_type": "code",
   "execution_count": 11,
   "metadata": {},
   "outputs": [
    {
     "name": "stdout",
     "output_type": "stream",
     "text": [
      "ab\n"
     ]
    }
   ],
   "source": [
    "test = ['a','b']\n",
    "test_ab = ''.join(test)\n",
    "print(test_ab)"
   ]
  },
  {
   "cell_type": "code",
   "execution_count": 13,
   "metadata": {},
   "outputs": [],
   "source": [
    "with open('code/demo.txt') as d, open('code/final.txt', 'w') as f:\n",
    "    my_text_file = d.read()\n",
    "    my_out_file = my_text_file.replace('replace_me_1', 'LOVE')\n",
    "    my_out_file = my_out_file.replace('replace_me_2', 'blah')\n",
    "    f.write(my_out_file)"
   ]
  },
  {
   "cell_type": "code",
   "execution_count": 15,
   "metadata": {},
   "outputs": [
    {
     "name": "stdout",
     "output_type": "stream",
     "text": [
      "This is line 1 of a demo txt file.\r\n",
      "\n",
      "This is line 2 of a demo txt file.\r\n",
      "\n",
      "This is line 3 of a demo txt file.\r\n",
      "\n",
      "This is line 4 of a demo txt file.\r\n",
      "\n",
      "This is line 5 of a demo txt file.\r\n",
      "\n",
      "This is line 6 of a demo txt file.\r\n",
      "\n",
      "This is line 7 of a demo txt file.\r\n",
      "\n",
      "This is line 8 of a demo txt file.\r\n",
      "\n",
      "This is line 9 of a demo txt file.\r\n",
      "\n",
      "This is line 10 of a demo txt file.\r\n",
      "\n",
      "I LOVE Python.\r\n",
      "\n",
      "I blah MATLAB.\r\n",
      "\n"
     ]
    }
   ],
   "source": [
    "with open('code/final.txt') as f:\n",
    "    for line in f:\n",
    "        print(line)"
   ]
  },
  {
   "cell_type": "code",
   "execution_count": 16,
   "metadata": {},
   "outputs": [
    {
     "name": "stdout",
     "output_type": "stream",
     "text": [
      "\u001b[0m\u001b[01;34mcode\u001b[0m/            \u001b[00mlecture09_rev00.aux\u001b[0m         \u001b[00mlecture09_rev01.nav\u001b[0m\r\n",
      "\u001b[00mhw09.aux\u001b[0m         \u001b[00mlecture09_rev00.log\u001b[0m         \u001b[00mlecture09_rev01.out\u001b[0m\r\n",
      "\u001b[00mhw09.log\u001b[0m         \u001b[00mlecture09_rev00.nav\u001b[0m         \u001b[00mlecture09_rev01.pdf\u001b[0m\r\n",
      "\u001b[00mhw09.nav\u001b[0m         \u001b[00mlecture09_rev00.out\u001b[0m         \u001b[00mlecture09_rev01.snm\u001b[0m\r\n",
      "\u001b[00mhw09.out\u001b[0m         \u001b[00mlecture09_rev00.pdf\u001b[0m         \u001b[00;31mlecture09_rev01.synctex.gz\u001b[0m\r\n",
      "\u001b[00mhw09.pdf\u001b[0m         \u001b[00mlecture09_rev00.snm\u001b[0m         \u001b[00mlecture09_rev01.tex\u001b[0m\r\n",
      "\u001b[00mhw09.snm\u001b[0m         \u001b[00;31mlecture09_rev00.synctex.gz\u001b[0m  \u001b[00mlecture09_rev01.toc\u001b[0m\r\n",
      "\u001b[00;31mhw09.synctex.gz\u001b[0m  \u001b[00mlecture09_rev00.tex\u001b[0m         \u001b[00mlecture09_rev01.vrb\u001b[0m\r\n",
      "\u001b[00mhw09.tex\u001b[0m         \u001b[00mlecture09_rev00.toc\u001b[0m         \u001b[01;34m_minted-hw09\u001b[0m/\r\n",
      "\u001b[00mhw09.toc\u001b[0m         \u001b[00mlecture09_rev00.vrb\u001b[0m         \u001b[01;34m_minted-lecture09_rev00\u001b[0m/\r\n",
      "\u001b[00mhw09.vrb\u001b[0m         \u001b[00mlecture09_rev01.aux\u001b[0m         \u001b[01;34m_minted-lecture09_rev01\u001b[0m/\r\n",
      "\u001b[00mLecture09.ipynb\u001b[0m  \u001b[00mlecture09_rev01.log\u001b[0m         \u001b[00mTenBar_FullyStressed.pdf\u001b[0m\r\n"
     ]
    }
   ],
   "source": [
    "ls"
   ]
  },
  {
   "cell_type": "code",
   "execution_count": 17,
   "metadata": {},
   "outputs": [],
   "source": [
    "from itertools import islice\n",
    "with open('code/demo.txt') as d:\n",
    "    my_numbers = []\n",
    "    for line in islice(d, 0, 10):\n",
    "        temp = line.split(' ')\n",
    "        my_numbers.append(float(temp[3]))"
   ]
  },
  {
   "cell_type": "code",
   "execution_count": 18,
   "metadata": {},
   "outputs": [
    {
     "name": "stdout",
     "output_type": "stream",
     "text": [
      "[1.0, 2.0, 3.0, 4.0, 5.0, 6.0, 7.0, 8.0, 9.0, 10.0]\n"
     ]
    }
   ],
   "source": [
    "print(my_numbers)"
   ]
  },
  {
   "cell_type": "code",
   "execution_count": 20,
   "metadata": {},
   "outputs": [
    {
     "name": "stdout",
     "output_type": "stream",
     "text": [
      "[['\\xef\\xbb\\xbfSpecimen', 'radius(mm)', 'Yeild force (KN)'], ['a', '30', '10000'], ['b', '25', '8000'], ['c', '20', '7000'], ['d', '17', '5000'], ['e', '15', '4000'], ['f', '13', '3000'], ['g', '11', '2000'], ['h', '10', '1000'], ['i', '8', '900'], ['j', '5', '800'], ['k', '4', '700']]\n"
     ]
    }
   ],
   "source": [
    "import csv\n",
    "with open('code/demo.csv') as d:\n",
    "    my_data = csv.reader(d, delimiter=',')\n",
    "    my_data_list = []\n",
    "    for i in my_data:\n",
    "        my_data_list.append(i)\n",
    "        \n",
    "print(my_data_list)"
   ]
  },
  {
   "cell_type": "code",
   "execution_count": 22,
   "metadata": {},
   "outputs": [
    {
     "data": {
      "text/plain": [
       "['d', '17', '5000']"
      ]
     },
     "execution_count": 22,
     "metadata": {},
     "output_type": "execute_result"
    }
   ],
   "source": [
    "my_data_list[4]"
   ]
  },
  {
   "cell_type": "code",
   "execution_count": null,
   "metadata": {},
   "outputs": [],
   "source": []
  }
 ],
 "metadata": {
  "kernelspec": {
   "display_name": "Python 2",
   "language": "python",
   "name": "python2"
  },
  "language_info": {
   "codemirror_mode": {
    "name": "ipython",
    "version": 2
   },
   "file_extension": ".py",
   "mimetype": "text/x-python",
   "name": "python",
   "nbconvert_exporter": "python",
   "pygments_lexer": "ipython2",
   "version": "2.7.13"
  }
 },
 "nbformat": 4,
 "nbformat_minor": 2
}
