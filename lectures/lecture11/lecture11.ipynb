{
 "cells": [
  {
   "cell_type": "code",
   "execution_count": 1,
   "metadata": {},
   "outputs": [],
   "source": [
    "from __future__ import print_function\n",
    "import numpy as np\n",
    "import matplotlib.pyplot as plt"
   ]
  },
  {
   "cell_type": "code",
   "execution_count": 2,
   "metadata": {},
   "outputs": [
    {
     "data": {
      "image/png": "[encoded data removed]",
      "text/plain": [
       "<matplotlib.figure.Figure at 0x7f8548b70d10>"
      ]
     },
     "metadata": {},
     "output_type": "display_data"
    }
   ],
   "source": [
    "np.random.seed(111)\n",
    "x = np.random.random(100)*10.\n",
    "noise = np.random.normal(loc=0.5,size=100)\n",
    "y = 2.0 *x - 1.2 + noise\n",
    "\n",
    "plt.figure()\n",
    "plt.plot(x,y,'o')\n",
    "plt.show()"
   ]
  },
  {
   "cell_type": "code",
   "execution_count": 3,
   "metadata": {},
   "outputs": [
    {
     "name": "stdout",
     "output_type": "stream",
     "text": [
      "[ 6.12170176  1.69069754  4.36059019  7.69262473  2.95325304  1.49162957\n",
      "  0.22478325  4.20224492  2.38682141  3.37656192  9.90712465  2.37726454\n",
      "  0.81192659  6.69600238  6.21242919  2.7425353   4.6622141   1.18367751\n",
      "  0.73957564  9.00774179  7.9396256   8.40569649  8.15207457  9.90954851\n",
      "  5.7727383   8.13766917  4.21317877  0.2744796   4.54136643  1.05326085\n",
      "  8.17220062  6.97727735  5.65285401  2.74227295  9.98473744  1.38042053\n",
      "  6.15415687  4.85036301  4.05027036  7.27849097  3.22813925  4.0054555\n",
      "  3.18966404  9.47221829  9.18708362  8.13844378  0.34077092  9.43372869\n",
      "  9.50439165  8.06591051  4.81278042  9.66759226  4.16979084  3.18840126\n",
      "  0.16442818  0.38181926  0.5308965   1.27960815  0.33383159  2.26421092\n",
      "  5.43908905  1.7862581   1.79344784  1.49613216  6.83013126  4.69008551\n",
      "  7.68247931  6.68814059  4.41268177  5.9522545   4.61656619  9.63266873\n",
      "  1.47811379  9.06813127  4.97924836  5.92498467  6.84657988  1.77450664\n",
      "  8.64685487  4.82088777  0.69341794  3.64731336  3.61504193  4.720635\n",
      "  1.79484848  1.7527984   9.49129602  6.55682315  1.34995532  9.27785826\n",
      "  8.41791617  0.52776036  2.03683517  8.72501639  6.73848064  2.9727251\n",
      "  7.34413079  6.18340271  2.10499246  8.02064577]\n"
     ]
    }
   ],
   "source": [
    "print(x)"
   ]
  },
  {
   "cell_type": "code",
   "execution_count": 4,
   "metadata": {},
   "outputs": [
    {
     "name": "stdout",
     "output_type": "stream",
     "text": [
      "[[ 6.12170176]\n",
      " [ 1.69069754]\n",
      " [ 4.36059019]\n",
      " [ 7.69262473]\n",
      " [ 2.95325304]\n",
      " [ 1.49162957]\n",
      " [ 0.22478325]\n",
      " [ 4.20224492]\n",
      " [ 2.38682141]\n",
      " [ 3.37656192]\n",
      " [ 9.90712465]\n",
      " [ 2.37726454]\n",
      " [ 0.81192659]\n",
      " [ 6.69600238]\n",
      " [ 6.21242919]\n",
      " [ 2.7425353 ]\n",
      " [ 4.6622141 ]\n",
      " [ 1.18367751]\n",
      " [ 0.73957564]\n",
      " [ 9.00774179]\n",
      " [ 7.9396256 ]\n",
      " [ 8.40569649]\n",
      " [ 8.15207457]\n",
      " [ 9.90954851]\n",
      " [ 5.7727383 ]\n",
      " [ 8.13766917]\n",
      " [ 4.21317877]\n",
      " [ 0.2744796 ]\n",
      " [ 4.54136643]\n",
      " [ 1.05326085]\n",
      " [ 8.17220062]\n",
      " [ 6.97727735]\n",
      " [ 5.65285401]\n",
      " [ 2.74227295]\n",
      " [ 9.98473744]\n",
      " [ 1.38042053]\n",
      " [ 6.15415687]\n",
      " [ 4.85036301]\n",
      " [ 4.05027036]\n",
      " [ 7.27849097]\n",
      " [ 3.22813925]\n",
      " [ 4.0054555 ]\n",
      " [ 3.18966404]\n",
      " [ 9.47221829]\n",
      " [ 9.18708362]\n",
      " [ 8.13844378]\n",
      " [ 0.34077092]\n",
      " [ 9.43372869]\n",
      " [ 9.50439165]\n",
      " [ 8.06591051]\n",
      " [ 4.81278042]\n",
      " [ 9.66759226]\n",
      " [ 4.16979084]\n",
      " [ 3.18840126]\n",
      " [ 0.16442818]\n",
      " [ 0.38181926]\n",
      " [ 0.5308965 ]\n",
      " [ 1.27960815]\n",
      " [ 0.33383159]\n",
      " [ 2.26421092]\n",
      " [ 5.43908905]\n",
      " [ 1.7862581 ]\n",
      " [ 1.79344784]\n",
      " [ 1.49613216]\n",
      " [ 6.83013126]\n",
      " [ 4.69008551]\n",
      " [ 7.68247931]\n",
      " [ 6.68814059]\n",
      " [ 4.41268177]\n",
      " [ 5.9522545 ]\n",
      " [ 4.61656619]\n",
      " [ 9.63266873]\n",
      " [ 1.47811379]\n",
      " [ 9.06813127]\n",
      " [ 4.97924836]\n",
      " [ 5.92498467]\n",
      " [ 6.84657988]\n",
      " [ 1.77450664]\n",
      " [ 8.64685487]\n",
      " [ 4.82088777]\n",
      " [ 0.69341794]\n",
      " [ 3.64731336]\n",
      " [ 3.61504193]\n",
      " [ 4.720635  ]\n",
      " [ 1.79484848]\n",
      " [ 1.7527984 ]\n",
      " [ 9.49129602]\n",
      " [ 6.55682315]\n",
      " [ 1.34995532]\n",
      " [ 9.27785826]\n",
      " [ 8.41791617]\n",
      " [ 0.52776036]\n",
      " [ 2.03683517]\n",
      " [ 8.72501639]\n",
      " [ 6.73848064]\n",
      " [ 2.9727251 ]\n",
      " [ 7.34413079]\n",
      " [ 6.18340271]\n",
      " [ 2.10499246]\n",
      " [ 8.02064577]]\n"
     ]
    }
   ],
   "source": [
    "X = x.reshape(-1,1)\n",
    "print(X)"
   ]
  },
  {
   "cell_type": "code",
   "execution_count": 5,
   "metadata": {},
   "outputs": [],
   "source": [
    "from sklearn.linear_model import LinearRegression\n",
    "model = LinearRegression(fit_intercept=True)"
   ]
  },
  {
   "cell_type": "code",
   "execution_count": 6,
   "metadata": {},
   "outputs": [
    {
     "data": {
      "text/plain": [
       "LinearRegression(copy_X=True, fit_intercept=True, n_jobs=1, normalize=False)"
      ]
     },
     "execution_count": 6,
     "metadata": {},
     "output_type": "execute_result"
    }
   ],
   "source": [
    "model"
   ]
  },
  {
   "cell_type": "code",
   "execution_count": 7,
   "metadata": {},
   "outputs": [
    {
     "data": {
      "text/plain": [
       "['__abstractmethods__',\n",
       " '__class__',\n",
       " '__delattr__',\n",
       " '__dict__',\n",
       " '__doc__',\n",
       " '__format__',\n",
       " '__getattribute__',\n",
       " '__getstate__',\n",
       " '__hash__',\n",
       " '__init__',\n",
       " '__module__',\n",
       " '__new__',\n",
       " '__reduce__',\n",
       " '__reduce_ex__',\n",
       " '__repr__',\n",
       " '__setattr__',\n",
       " '__setstate__',\n",
       " '__sizeof__',\n",
       " '__str__',\n",
       " '__subclasshook__',\n",
       " '__weakref__',\n",
       " '_abc_cache',\n",
       " '_abc_negative_cache',\n",
       " '_abc_negative_cache_version',\n",
       " '_abc_registry',\n",
       " '_decision_function',\n",
       " '_estimator_type',\n",
       " '_get_param_names',\n",
       " '_preprocess_data',\n",
       " '_set_intercept',\n",
       " 'copy_X',\n",
       " 'fit',\n",
       " 'fit_intercept',\n",
       " 'get_params',\n",
       " 'n_jobs',\n",
       " 'normalize',\n",
       " 'predict',\n",
       " 'score',\n",
       " 'set_params']"
      ]
     },
     "execution_count": 7,
     "metadata": {},
     "output_type": "execute_result"
    }
   ],
   "source": [
    "dir(model)"
   ]
  },
  {
   "cell_type": "code",
   "execution_count": 8,
   "metadata": {},
   "outputs": [
    {
     "data": {
      "text/plain": [
       "LinearRegression(copy_X=True, fit_intercept=True, n_jobs=1, normalize=False)"
      ]
     },
     "execution_count": 8,
     "metadata": {},
     "output_type": "execute_result"
    }
   ],
   "source": [
    "model.fit(X,y)"
   ]
  },
  {
   "cell_type": "code",
   "execution_count": 9,
   "metadata": {},
   "outputs": [
    {
     "data": {
      "text/plain": [
       "array([ 2.03328932])"
      ]
     },
     "execution_count": 9,
     "metadata": {},
     "output_type": "execute_result"
    }
   ],
   "source": [
    "model.coef_"
   ]
  },
  {
   "cell_type": "code",
   "execution_count": 10,
   "metadata": {},
   "outputs": [
    {
     "data": {
      "text/plain": [
       "-0.91459292069772502"
      ]
     },
     "execution_count": 10,
     "metadata": {},
     "output_type": "execute_result"
    }
   ],
   "source": [
    "model.intercept_"
   ]
  },
  {
   "cell_type": "code",
   "execution_count": 12,
   "metadata": {},
   "outputs": [
    {
     "data": {
      "text/plain": [
       "0.97616384009658663"
      ]
     },
     "execution_count": 12,
     "metadata": {},
     "output_type": "execute_result"
    }
   ],
   "source": [
    "model.score(X,y)"
   ]
  },
  {
   "cell_type": "code",
   "execution_count": 13,
   "metadata": {},
   "outputs": [],
   "source": [
    "x_hat = np.linspace(np.min(x)-.5, np.max(x)+.5, 100)\n",
    "X_hat = x_hat.reshape(-1,1)"
   ]
  },
  {
   "cell_type": "code",
   "execution_count": 14,
   "metadata": {},
   "outputs": [],
   "source": [
    "y_hat = model.predict(X_hat)"
   ]
  },
  {
   "cell_type": "code",
   "execution_count": 15,
   "metadata": {},
   "outputs": [
    {
     "data": {
      "image/png": "[encoded data removed]",
      "text/plain": [
       "<matplotlib.figure.Figure at 0x7f853b7ad990>"
      ]
     },
     "metadata": {},
     "output_type": "display_data"
    }
   ],
   "source": [
    "plt.figure()\n",
    "plt.plot(x,y,'o')\n",
    "plt.plot(x_hat,y_hat,'-')\n",
    "plt.show()"
   ]
  },
  {
   "cell_type": "code",
   "execution_count": 16,
   "metadata": {},
   "outputs": [
    {
     "data": {
      "image/png": "[encoded data removed]",
      "text/plain": [
       "<matplotlib.figure.Figure at 0x7f853b6f7610>"
      ]
     },
     "metadata": {},
     "output_type": "display_data"
    }
   ],
   "source": [
    "# gernate new x data for example\n",
    "x = (20.0)* np.random.random(100)-10.0\n",
    "y = 1.0 + 2.2*x - 0.5 *x**2 + noise\n",
    "\n",
    "plt.figure()\n",
    "plt.plot(x,y,'o')\n",
    "plt.show()"
   ]
  },
  {
   "cell_type": "code",
   "execution_count": 17,
   "metadata": {},
   "outputs": [
    {
     "name": "stdout",
     "output_type": "stream",
     "text": [
      "[[-1.33864106]\n",
      " [-8.36893021]\n",
      " [-9.78713485]\n",
      " [-1.38230875]\n",
      " [ 3.25673662]\n",
      " [ 0.30403015]\n",
      " [ 1.60251816]\n",
      " [-0.13794278]\n",
      " [ 4.80977074]\n",
      " [ 5.78833204]\n",
      " [ 5.62141481]\n",
      " [-7.44920136]\n",
      " [ 8.80280637]\n",
      " [ 7.5543355 ]\n",
      " [ 3.99018343]\n",
      " [ 8.73790286]\n",
      " [ 3.47574098]\n",
      " [ 1.88850689]\n",
      " [-3.09982799]\n",
      " [-8.3286814 ]\n",
      " [ 1.58680073]\n",
      " [-9.64769889]\n",
      " [ 1.04821561]\n",
      " [ 2.65195967]\n",
      " [ 3.56889333]\n",
      " [-6.58953446]\n",
      " [ 1.5413044 ]\n",
      " [-5.88051911]\n",
      " [-4.97046524]\n",
      " [ 9.3852822 ]\n",
      " [ 7.93170078]\n",
      " [-7.54317296]\n",
      " [ 7.62476033]\n",
      " [ 8.95962169]\n",
      " [-0.80170846]\n",
      " [-1.74099099]\n",
      " [ 1.54283191]\n",
      " [-2.33037875]\n",
      " [-6.71543973]\n",
      " [ 2.9743394 ]\n",
      " [-5.01904817]\n",
      " [ 3.17819533]\n",
      " [ 8.00838942]\n",
      " [ 8.15120104]\n",
      " [ 4.58611816]\n",
      " [-6.50010119]\n",
      " [-1.65094166]\n",
      " [-4.91539263]\n",
      " [ 4.74300637]\n",
      " [-2.5685001 ]\n",
      " [-1.01747283]\n",
      " [ 8.73961053]\n",
      " [ 6.26107036]\n",
      " [-9.39491566]\n",
      " [-4.87182408]\n",
      " [ 1.58573572]\n",
      " [-2.32951161]\n",
      " [ 5.55843872]\n",
      " [ 0.59265526]\n",
      " [-7.67969772]\n",
      " [ 5.28842204]\n",
      " [-6.15368876]\n",
      " [-2.48370605]\n",
      " [-9.99918012]\n",
      " [ 8.93841722]\n",
      " [ 3.97221412]\n",
      " [-8.1302189 ]\n",
      " [ 8.7893013 ]\n",
      " [-3.70332161]\n",
      " [-4.81310081]\n",
      " [-4.71308115]\n",
      " [ 4.70795981]\n",
      " [ 7.2546221 ]\n",
      " [-8.89023687]\n",
      " [-9.76713775]\n",
      " [ 9.96269922]\n",
      " [-1.89373415]\n",
      " [ 6.81387599]\n",
      " [-8.43166572]\n",
      " [ 6.83559663]\n",
      " [-9.55549301]\n",
      " [-1.60343551]\n",
      " [-0.62817482]\n",
      " [-5.46420413]\n",
      " [-2.3491719 ]\n",
      " [-2.25568652]\n",
      " [ 7.06963259]\n",
      " [-7.22235694]\n",
      " [ 3.38485014]\n",
      " [ 1.51617803]\n",
      " [-7.35964386]\n",
      " [-6.71577248]\n",
      " [-1.6148474 ]\n",
      " [-9.77521285]\n",
      " [-5.68219832]\n",
      " [-3.57448792]\n",
      " [ 6.35407882]\n",
      " [ 6.80488473]\n",
      " [ 0.54829749]\n",
      " [-4.87344713]]\n"
     ]
    }
   ],
   "source": [
    "from sklearn.preprocessing import PolynomialFeatures\n",
    "poly = PolynomialFeatures(degree=2)\n",
    "X = x.reshape(-1,1)\n",
    "print(X)"
   ]
  },
  {
   "cell_type": "code",
   "execution_count": 18,
   "metadata": {},
   "outputs": [
    {
     "name": "stdout",
     "output_type": "stream",
     "text": [
      "[[  1.00000000e+00  -1.33864106e+00   1.79195989e+00]\n",
      " [  1.00000000e+00  -8.36893021e+00   7.00389929e+01]\n",
      " [  1.00000000e+00  -9.78713485e+00   9.57880086e+01]\n",
      " [  1.00000000e+00  -1.38230875e+00   1.91077747e+00]\n",
      " [  1.00000000e+00   3.25673662e+00   1.06063334e+01]\n",
      " [  1.00000000e+00   3.04030146e-01   9.24343294e-02]\n",
      " [  1.00000000e+00   1.60251816e+00   2.56806446e+00]\n",
      " [  1.00000000e+00  -1.37942783e-01   1.90282114e-02]\n",
      " [  1.00000000e+00   4.80977074e+00   2.31338946e+01]\n",
      " [  1.00000000e+00   5.78833204e+00   3.35047878e+01]\n",
      " [  1.00000000e+00   5.62141481e+00   3.16003045e+01]\n",
      " [  1.00000000e+00  -7.44920136e+00   5.54906009e+01]\n",
      " [  1.00000000e+00   8.80280637e+00   7.74893999e+01]\n",
      " [  1.00000000e+00   7.55433550e+00   5.70679849e+01]\n",
      " [  1.00000000e+00   3.99018343e+00   1.59215638e+01]\n",
      " [  1.00000000e+00   8.73790286e+00   7.63509464e+01]\n",
      " [  1.00000000e+00   3.47574098e+00   1.20807753e+01]\n",
      " [  1.00000000e+00   1.88850689e+00   3.56645828e+00]\n",
      " [  1.00000000e+00  -3.09982799e+00   9.60893358e+00]\n",
      " [  1.00000000e+00  -8.32868140e+00   6.93669339e+01]\n",
      " [  1.00000000e+00   1.58680073e+00   2.51793656e+00]\n",
      " [  1.00000000e+00  -9.64769889e+00   9.30780939e+01]\n",
      " [  1.00000000e+00   1.04821561e+00   1.09875596e+00]\n",
      " [  1.00000000e+00   2.65195967e+00   7.03289007e+00]\n",
      " [  1.00000000e+00   3.56889333e+00   1.27369996e+01]\n",
      " [  1.00000000e+00  -6.58953446e+00   4.34219644e+01]\n",
      " [  1.00000000e+00   1.54130440e+00   2.37561927e+00]\n",
      " [  1.00000000e+00  -5.88051911e+00   3.45805050e+01]\n",
      " [  1.00000000e+00  -4.97046524e+00   2.47055247e+01]\n",
      " [  1.00000000e+00   9.38528220e+00   8.80835219e+01]\n",
      " [  1.00000000e+00   7.93170078e+00   6.29118772e+01]\n",
      " [  1.00000000e+00  -7.54317296e+00   5.68994582e+01]\n",
      " [  1.00000000e+00   7.62476033e+00   5.81369701e+01]\n",
      " [  1.00000000e+00   8.95962169e+00   8.02748209e+01]\n",
      " [  1.00000000e+00  -8.01708458e-01   6.42736451e-01]\n",
      " [  1.00000000e+00  -1.74099099e+00   3.03104964e+00]\n",
      " [  1.00000000e+00   1.54283191e+00   2.38033029e+00]\n",
      " [  1.00000000e+00  -2.33037875e+00   5.43066512e+00]\n",
      " [  1.00000000e+00  -6.71543973e+00   4.50971308e+01]\n",
      " [  1.00000000e+00   2.97433940e+00   8.84669487e+00]\n",
      " [  1.00000000e+00  -5.01904817e+00   2.51908446e+01]\n",
      " [  1.00000000e+00   3.17819533e+00   1.01009256e+01]\n",
      " [  1.00000000e+00   8.00838942e+00   6.41343012e+01]\n",
      " [  1.00000000e+00   8.15120104e+00   6.64420784e+01]\n",
      " [  1.00000000e+00   4.58611816e+00   2.10324798e+01]\n",
      " [  1.00000000e+00  -6.50010119e+00   4.22513154e+01]\n",
      " [  1.00000000e+00  -1.65094166e+00   2.72560836e+00]\n",
      " [  1.00000000e+00  -4.91539263e+00   2.41610847e+01]\n",
      " [  1.00000000e+00   4.74300637e+00   2.24961094e+01]\n",
      " [  1.00000000e+00  -2.56850010e+00   6.59719277e+00]\n",
      " [  1.00000000e+00  -1.01747283e+00   1.03525096e+00]\n",
      " [  1.00000000e+00   8.73961053e+00   7.63807922e+01]\n",
      " [  1.00000000e+00   6.26107036e+00   3.92010020e+01]\n",
      " [  1.00000000e+00  -9.39491566e+00   8.82644403e+01]\n",
      " [  1.00000000e+00  -4.87182408e+00   2.37346698e+01]\n",
      " [  1.00000000e+00   1.58573572e+00   2.51455777e+00]\n",
      " [  1.00000000e+00  -2.32951161e+00   5.42662434e+00]\n",
      " [  1.00000000e+00   5.55843872e+00   3.08962410e+01]\n",
      " [  1.00000000e+00   5.92655257e-01   3.51240253e-01]\n",
      " [  1.00000000e+00  -7.67969772e+00   5.89777571e+01]\n",
      " [  1.00000000e+00   5.28842204e+00   2.79674076e+01]\n",
      " [  1.00000000e+00  -6.15368876e+00   3.78678854e+01]\n",
      " [  1.00000000e+00  -2.48370605e+00   6.16879577e+00]\n",
      " [  1.00000000e+00  -9.99918012e+00   9.99836030e+01]\n",
      " [  1.00000000e+00   8.93841722e+00   7.98953024e+01]\n",
      " [  1.00000000e+00   3.97221412e+00   1.57784850e+01]\n",
      " [  1.00000000e+00  -8.13021890e+00   6.61004593e+01]\n",
      " [  1.00000000e+00   8.78930130e+00   7.72518174e+01]\n",
      " [  1.00000000e+00  -3.70332161e+00   1.37145909e+01]\n",
      " [  1.00000000e+00  -4.81310081e+00   2.31659394e+01]\n",
      " [  1.00000000e+00  -4.71308115e+00   2.22131340e+01]\n",
      " [  1.00000000e+00   4.70795981e+00   2.21648856e+01]\n",
      " [  1.00000000e+00   7.25462210e+00   5.26295418e+01]\n",
      " [  1.00000000e+00  -8.89023687e+00   7.90363116e+01]\n",
      " [  1.00000000e+00  -9.76713775e+00   9.53969799e+01]\n",
      " [  1.00000000e+00   9.96269922e+00   9.92553757e+01]\n",
      " [  1.00000000e+00  -1.89373415e+00   3.58622902e+00]\n",
      " [  1.00000000e+00   6.81387599e+00   4.64289060e+01]\n",
      " [  1.00000000e+00  -8.43166572e+00   7.10929868e+01]\n",
      " [  1.00000000e+00   6.83559663e+00   4.67253812e+01]\n",
      " [  1.00000000e+00  -9.55549301e+00   9.13074467e+01]\n",
      " [  1.00000000e+00  -1.60343551e+00   2.57100543e+00]\n",
      " [  1.00000000e+00  -6.28174823e-01   3.94603608e-01]\n",
      " [  1.00000000e+00  -5.46420413e+00   2.98575268e+01]\n",
      " [  1.00000000e+00  -2.34917190e+00   5.51860863e+00]\n",
      " [  1.00000000e+00  -2.25568652e+00   5.08812167e+00]\n",
      " [  1.00000000e+00   7.06963259e+00   4.99797050e+01]\n",
      " [  1.00000000e+00  -7.22235694e+00   5.21624398e+01]\n",
      " [  1.00000000e+00   3.38485014e+00   1.14572105e+01]\n",
      " [  1.00000000e+00   1.51617803e+00   2.29879583e+00]\n",
      " [  1.00000000e+00  -7.35964386e+00   5.41643577e+01]\n",
      " [  1.00000000e+00  -6.71577248e+00   4.51016000e+01]\n",
      " [  1.00000000e+00  -1.61484740e+00   2.60773212e+00]\n",
      " [  1.00000000e+00  -9.77521285e+00   9.55547863e+01]\n",
      " [  1.00000000e+00  -5.68219832e+00   3.22873777e+01]\n",
      " [  1.00000000e+00  -3.57448792e+00   1.27769639e+01]\n",
      " [  1.00000000e+00   6.35407882e+00   4.03743176e+01]\n",
      " [  1.00000000e+00   6.80488473e+00   4.63064561e+01]\n",
      " [  1.00000000e+00   5.48297489e-01   3.00630137e-01]\n",
      " [  1.00000000e+00  -4.87344713e+00   2.37504869e+01]]\n"
     ]
    }
   ],
   "source": [
    "X = poly.fit_transform(X)\n",
    "print(X)"
   ]
  },
  {
   "cell_type": "code",
   "execution_count": 19,
   "metadata": {},
   "outputs": [],
   "source": [
    "quad = LinearRegression(fit_intercept=False)"
   ]
  },
  {
   "cell_type": "code",
   "execution_count": 20,
   "metadata": {},
   "outputs": [
    {
     "data": {
      "text/plain": [
       "LinearRegression(copy_X=True, fit_intercept=False, n_jobs=1, normalize=False)"
      ]
     },
     "execution_count": 20,
     "metadata": {},
     "output_type": "execute_result"
    }
   ],
   "source": [
    "quad.fit(X,y)"
   ]
  },
  {
   "cell_type": "code",
   "execution_count": 21,
   "metadata": {},
   "outputs": [
    {
     "name": "stdout",
     "output_type": "stream",
     "text": [
      "[[  1.00000000e+00  -1.04991801e+01   1.10232783e+02]\n",
      " [  1.00000000e+00  -1.02874440e+01   1.05831503e+02]\n",
      " [  1.00000000e+00  -1.00757078e+01   1.01519888e+02]\n",
      " [  1.00000000e+00  -9.86397165e+00   9.72979368e+01]\n",
      " [  1.00000000e+00  -9.65223550e+00   9.31656501e+01]\n",
      " [  1.00000000e+00  -9.44049934e+00   8.91230279e+01]\n",
      " [  1.00000000e+00  -9.22876319e+00   8.51700700e+01]\n",
      " [  1.00000000e+00  -9.01702703e+00   8.13067765e+01]\n",
      " [  1.00000000e+00  -8.80529088e+00   7.75331475e+01]\n",
      " [  1.00000000e+00  -8.59355472e+00   7.38491828e+01]\n",
      " [  1.00000000e+00  -8.38181857e+00   7.02548825e+01]\n",
      " [  1.00000000e+00  -8.17008241e+00   6.67502467e+01]\n",
      " [  1.00000000e+00  -7.95834626e+00   6.33352752e+01]\n",
      " [  1.00000000e+00  -7.74661010e+00   6.00099681e+01]\n",
      " [  1.00000000e+00  -7.53487395e+00   5.67743254e+01]\n",
      " [  1.00000000e+00  -7.32313779e+00   5.36283472e+01]\n",
      " [  1.00000000e+00  -7.11140164e+00   5.05720333e+01]\n",
      " [  1.00000000e+00  -6.89966549e+00   4.76053838e+01]\n",
      " [  1.00000000e+00  -6.68792933e+00   4.47283987e+01]\n",
      " [  1.00000000e+00  -6.47619318e+00   4.19410780e+01]\n",
      " [  1.00000000e+00  -6.26445702e+00   3.92434218e+01]\n",
      " [  1.00000000e+00  -6.05272087e+00   3.66354299e+01]\n",
      " [  1.00000000e+00  -5.84098471e+00   3.41171024e+01]\n",
      " [  1.00000000e+00  -5.62924856e+00   3.16884393e+01]\n",
      " [  1.00000000e+00  -5.41751240e+00   2.93494406e+01]\n",
      " [  1.00000000e+00  -5.20577625e+00   2.71001063e+01]\n",
      " [  1.00000000e+00  -4.99404009e+00   2.49404364e+01]\n",
      " [  1.00000000e+00  -4.78230394e+00   2.28704309e+01]\n",
      " [  1.00000000e+00  -4.57056778e+00   2.08900898e+01]\n",
      " [  1.00000000e+00  -4.35883163e+00   1.89994131e+01]\n",
      " [  1.00000000e+00  -4.14709547e+00   1.71984008e+01]\n",
      " [  1.00000000e+00  -3.93535932e+00   1.54870529e+01]\n",
      " [  1.00000000e+00  -3.72362316e+00   1.38653694e+01]\n",
      " [  1.00000000e+00  -3.51188701e+00   1.23333503e+01]\n",
      " [  1.00000000e+00  -3.30015085e+00   1.08909956e+01]\n",
      " [  1.00000000e+00  -3.08841470e+00   9.53830534e+00]\n",
      " [  1.00000000e+00  -2.87667854e+00   8.27527943e+00]\n",
      " [  1.00000000e+00  -2.66494239e+00   7.10191793e+00]\n",
      " [  1.00000000e+00  -2.45320623e+00   6.01822082e+00]\n",
      " [  1.00000000e+00  -2.24147008e+00   5.02418811e+00]\n",
      " [  1.00000000e+00  -2.02973392e+00   4.11981980e+00]\n",
      " [  1.00000000e+00  -1.81799777e+00   3.30511588e+00]\n",
      " [  1.00000000e+00  -1.60626161e+00   2.58007637e+00]\n",
      " [  1.00000000e+00  -1.39452546e+00   1.94470125e+00]\n",
      " [  1.00000000e+00  -1.18278930e+00   1.39899053e+00]\n",
      " [  1.00000000e+00  -9.71053148e-01   9.42944216e-01]\n",
      " [  1.00000000e+00  -7.59316993e-01   5.76562296e-01]\n",
      " [  1.00000000e+00  -5.47580838e-01   2.99844774e-01]\n",
      " [  1.00000000e+00  -3.35844683e-01   1.12791651e-01]\n",
      " [  1.00000000e+00  -1.24108528e-01   1.54029268e-02]\n",
      " [  1.00000000e+00   8.76276267e-02   7.67860096e-03]\n",
      " [  1.00000000e+00   2.99363782e-01   8.96186737e-02]\n",
      " [  1.00000000e+00   5.11099937e-01   2.61223145e-01]\n",
      " [  1.00000000e+00   7.22836091e-01   5.22492015e-01]\n",
      " [  1.00000000e+00   9.34572246e-01   8.73425284e-01]\n",
      " [  1.00000000e+00   1.14630840e+00   1.31402295e+00]\n",
      " [  1.00000000e+00   1.35804456e+00   1.84428502e+00]\n",
      " [  1.00000000e+00   1.56978071e+00   2.46421148e+00]\n",
      " [  1.00000000e+00   1.78151687e+00   3.17380234e+00]\n",
      " [  1.00000000e+00   1.99325302e+00   3.97305761e+00]\n",
      " [  1.00000000e+00   2.20498918e+00   4.86197727e+00]\n",
      " [  1.00000000e+00   2.41672533e+00   5.84056132e+00]\n",
      " [  1.00000000e+00   2.62846149e+00   6.90880978e+00]\n",
      " [  1.00000000e+00   2.84019764e+00   8.06672264e+00]\n",
      " [  1.00000000e+00   3.05193380e+00   9.31429989e+00]\n",
      " [  1.00000000e+00   3.26366995e+00   1.06515415e+01]\n",
      " [  1.00000000e+00   3.47540611e+00   1.20784476e+01]\n",
      " [  1.00000000e+00   3.68714226e+00   1.35950180e+01]\n",
      " [  1.00000000e+00   3.89887841e+00   1.52012529e+01]\n",
      " [  1.00000000e+00   4.11061457e+00   1.68971521e+01]\n",
      " [  1.00000000e+00   4.32235072e+00   1.86827158e+01]\n",
      " [  1.00000000e+00   4.53408688e+00   2.05579438e+01]\n",
      " [  1.00000000e+00   4.74582303e+00   2.25228363e+01]\n",
      " [  1.00000000e+00   4.95755919e+00   2.45773931e+01]\n",
      " [  1.00000000e+00   5.16929534e+00   2.67216144e+01]\n",
      " [  1.00000000e+00   5.38103150e+00   2.89555000e+01]\n",
      " [  1.00000000e+00   5.59276765e+00   3.12790500e+01]\n",
      " [  1.00000000e+00   5.80450381e+00   3.36922645e+01]\n",
      " [  1.00000000e+00   6.01623996e+00   3.61951433e+01]\n",
      " [  1.00000000e+00   6.22797612e+00   3.87876865e+01]\n",
      " [  1.00000000e+00   6.43971227e+00   4.14698942e+01]\n",
      " [  1.00000000e+00   6.65144843e+00   4.42417662e+01]\n",
      " [  1.00000000e+00   6.86318458e+00   4.71033026e+01]\n",
      " [  1.00000000e+00   7.07492074e+00   5.00545035e+01]\n",
      " [  1.00000000e+00   7.28665689e+00   5.30953687e+01]\n",
      " [  1.00000000e+00   7.49839305e+00   5.62258983e+01]\n",
      " [  1.00000000e+00   7.71012920e+00   5.94460923e+01]\n",
      " [  1.00000000e+00   7.92186536e+00   6.27559508e+01]\n",
      " [  1.00000000e+00   8.13360151e+00   6.61554736e+01]\n",
      " [  1.00000000e+00   8.34533767e+00   6.96446608e+01]\n",
      " [  1.00000000e+00   8.55707382e+00   7.32235124e+01]\n",
      " [  1.00000000e+00   8.76880998e+00   7.68920284e+01]\n",
      " [  1.00000000e+00   8.98054613e+00   8.06502088e+01]\n",
      " [  1.00000000e+00   9.19228229e+00   8.44980537e+01]\n",
      " [  1.00000000e+00   9.40401844e+00   8.84355629e+01]\n",
      " [  1.00000000e+00   9.61575460e+00   9.24627365e+01]\n",
      " [  1.00000000e+00   9.82749075e+00   9.65795745e+01]\n",
      " [  1.00000000e+00   1.00392269e+01   1.00786077e+02]\n",
      " [  1.00000000e+00   1.02509631e+01   1.05082244e+02]\n",
      " [  1.00000000e+00   1.04626992e+01   1.09468075e+02]]\n"
     ]
    }
   ],
   "source": [
    "x_hat = np.linspace(np.min(x)-.5, np.max(x)+.5, 100)\n",
    "X_hat = x_hat.reshape(-1,1)\n",
    "X_hat = poly.transform(X_hat)\n",
    "print(X_hat)"
   ]
  },
  {
   "cell_type": "code",
   "execution_count": 22,
   "metadata": {},
   "outputs": [],
   "source": [
    "y_hat = quad.predict(X_hat)"
   ]
  },
  {
   "cell_type": "code",
   "execution_count": 23,
   "metadata": {},
   "outputs": [
    {
     "data": {
      "image/png": "[encoded data removed]",
      "text/plain": [
       "<matplotlib.figure.Figure at 0x7f853b67db90>"
      ]
     },
     "metadata": {},
     "output_type": "display_data"
    }
   ],
   "source": [
    "plt.figure()\n",
    "plt.plot(x,y,'o')\n",
    "plt.plot(x_hat,y_hat,'-')\n",
    "plt.show()"
   ]
  },
  {
   "cell_type": "code",
   "execution_count": 25,
   "metadata": {},
   "outputs": [
    {
     "data": {
      "text/plain": [
       "0.9978753658289562"
      ]
     },
     "execution_count": 25,
     "metadata": {},
     "output_type": "execute_result"
    }
   ],
   "source": [
    "quad.score(X,y)"
   ]
  },
  {
   "cell_type": "code",
   "execution_count": null,
   "metadata": {},
   "outputs": [],
   "source": []
  }
 ],
 "metadata": {
  "kernelspec": {
   "display_name": "Python 2",
   "language": "python",
   "name": "python2"
  },
  "language_info": {
   "codemirror_mode": {
    "name": "ipython",
    "version": 2
   },
   "file_extension": ".py",
   "mimetype": "text/x-python",
   "name": "python",
   "nbconvert_exporter": "python",
   "pygments_lexer": "ipython2",
   "version": "2.7.13"
  }
 },
 "nbformat": 4,
 "nbformat_minor": 2
}
