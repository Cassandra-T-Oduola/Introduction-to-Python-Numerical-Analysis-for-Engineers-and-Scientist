{
 "cells": [
  {
   "cell_type": "code",
   "execution_count": 1,
   "metadata": {},
   "outputs": [],
   "source": [
    "from __future__ import print_function\n",
    "import numpy as np\n",
    "# lecture 08"
   ]
  },
  {
   "cell_type": "code",
   "execution_count": 2,
   "metadata": {},
   "outputs": [],
   "source": [
    "def my_func(x):\n",
    "    return (x[0]+x[1])**2 + (x[1]+x[2])**2\n",
    "\n",
    "def my_con(x):\n",
    "    return x[0]+2.0*x[1] + 3.0*x[2] - 1.0"
   ]
  },
  {
   "cell_type": "code",
   "execution_count": 3,
   "metadata": {},
   "outputs": [],
   "source": [
    "x0 = (-4, 1, 2)\n"
   ]
  },
  {
   "cell_type": "code",
   "execution_count": 4,
   "metadata": {},
   "outputs": [],
   "source": [
    "from scipy import optimize"
   ]
  },
  {
   "cell_type": "code",
   "execution_count": 5,
   "metadata": {},
   "outputs": [
    {
     "name": "stdout",
     "output_type": "stream",
     "text": [
      "Optimization terminated successfully.    (Exit mode 0)\n",
      "            Current function value: 4.09981490705e-07\n",
      "            Iterations: 5\n",
      "            Function evaluations: 26\n",
      "            Gradient evaluations: 5\n"
     ]
    }
   ],
   "source": [
    "res = optimize.fmin_slsqp(my_func, x0, f_eqcons=my_con, disp=True, full_output=True)"
   ]
  },
  {
   "cell_type": "code",
   "execution_count": 6,
   "metadata": {},
   "outputs": [
    {
     "data": {
      "text/plain": [
       "(array([ 0.50007145, -0.50066309,  0.50041824]),\n",
       " 4.099814907048575e-07,\n",
       " 5,\n",
       " 0,\n",
       " 'Optimization terminated successfully.')"
      ]
     },
     "execution_count": 6,
     "metadata": {},
     "output_type": "execute_result"
    }
   ],
   "source": [
    "res"
   ]
  },
  {
   "cell_type": "code",
   "execution_count": 7,
   "metadata": {},
   "outputs": [],
   "source": [
    "def adjiman(x):\n",
    "    a = np.cos(x[0])*np.sin(x[1])\n",
    "    b = x[0]/ (x[1]**2+1.0)\n",
    "    return a -b\n",
    "\n",
    "bounds = ((-10.0,10.0),\n",
    "         (-10.0, 10.0))"
   ]
  },
  {
   "cell_type": "code",
   "execution_count": 8,
   "metadata": {},
   "outputs": [
    {
     "data": {
      "text/plain": [
       "0.57275820352804852"
      ]
     },
     "execution_count": 8,
     "metadata": {},
     "output_type": "execute_result"
    }
   ],
   "source": [
    "adjiman([3,4])"
   ]
  },
  {
   "cell_type": "code",
   "execution_count": 10,
   "metadata": {},
   "outputs": [
    {
     "name": "stdout",
     "output_type": "stream",
     "text": [
      "differential_evolution step 1: f(x)= -4.13802\n",
      "differential_evolution step 2: f(x)= -6.78375\n",
      "differential_evolution step 3: f(x)= -6.78375\n",
      "differential_evolution step 4: f(x)= -9.27776\n",
      "differential_evolution step 5: f(x)= -9.27776\n",
      "differential_evolution step 6: f(x)= -9.45728\n",
      "differential_evolution step 7: f(x)= -9.96663\n",
      "differential_evolution step 8: f(x)= -9.96663\n",
      "differential_evolution step 9: f(x)= -9.96663\n",
      "differential_evolution step 10: f(x)= -9.96663\n",
      "differential_evolution step 11: f(x)= -9.96663\n",
      "differential_evolution step 12: f(x)= -9.96663\n",
      "differential_evolution step 13: f(x)= -9.96663\n",
      "differential_evolution step 14: f(x)= -9.96663\n",
      "differential_evolution step 15: f(x)= -9.96829\n",
      "differential_evolution step 16: f(x)= -10.0103\n",
      "differential_evolution step 17: f(x)= -10.0104\n",
      "differential_evolution step 18: f(x)= -10.0106\n",
      "differential_evolution step 19: f(x)= -10.0137\n",
      "differential_evolution step 20: f(x)= -10.0155\n",
      "differential_evolution step 21: f(x)= -10.0167\n",
      "differential_evolution step 22: f(x)= -10.0174\n"
     ]
    }
   ],
   "source": [
    "res = optimize.differential_evolution(adjiman, bounds, popsize=20, disp=True)"
   ]
  },
  {
   "cell_type": "code",
   "execution_count": 11,
   "metadata": {},
   "outputs": [
    {
     "data": {
      "text/plain": [
       "     fun: -10.017621748240034\n",
       "     jac: array([ -9.75356329e-01,  -1.95399252e-06])\n",
       " message: 'Optimization terminated successfully.'\n",
       "    nfev: 935\n",
       "     nit: 22\n",
       " success: True\n",
       "       x: array([ 10.        ,   0.04206483])"
      ]
     },
     "execution_count": 11,
     "metadata": {},
     "output_type": "execute_result"
    }
   ],
   "source": [
    "res"
   ]
  },
  {
   "cell_type": "code",
   "execution_count": null,
   "metadata": {},
   "outputs": [],
   "source": []
  }
 ],
 "metadata": {
  "kernelspec": {
   "display_name": "Python 2",
   "language": "python",
   "name": "python2"
  },
  "language_info": {
   "codemirror_mode": {
    "name": "ipython",
    "version": 2
   },
   "file_extension": ".py",
   "mimetype": "text/x-python",
   "name": "python",
   "nbconvert_exporter": "python",
   "pygments_lexer": "ipython2",
   "version": "2.7.13"
  }
 },
 "nbformat": 4,
 "nbformat_minor": 2
}
